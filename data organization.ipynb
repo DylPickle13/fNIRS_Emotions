{
 "cells": [
  {
   "cell_type": "code",
   "execution_count": 63,
   "metadata": {},
   "outputs": [
    {
     "name": "stdout",
     "output_type": "stream",
     "text": [
      "Number of participants: 89\n"
     ]
    }
   ],
   "source": [
    "import os\n",
    "import shutil\n",
    "\n",
    "folder_name = 'data'\n",
    "\n",
    "# get a list of all the folders in the data directory\n",
    "participants = [p for p in os.listdir(folder_name) if os.path.isdir(os.path.join(folder_name, p))]\n",
    "\n",
    "# extract the participant number from the participant folders\n",
    "participant_numbers = []\n",
    "for p in participants:\n",
    "    participant_numbers.append(int(p.split('_')[1]))\n",
    "\n",
    "    # check if there is a folder called ordering inside the participant folder\n",
    "    if 'ordering' not in os.listdir(os.path.join(folder_name, p)):\n",
    "        # create the ordering folder\n",
    "        os.mkdir(os.path.join(folder_name, p, 'ordering'))\n",
    "        print('Created ordering folder for participant', p)\n",
    "\n",
    "# find the largest participant number\n",
    "if len(participant_numbers) == 0:\n",
    "    num_participants = 0\n",
    "else:\n",
    "    num_participants = max(participant_numbers)\n",
    "print('Number of participants:', num_participants)"
   ]
  },
  {
   "cell_type": "code",
   "execution_count": 64,
   "metadata": {},
   "outputs": [
    {
     "name": "stdout",
     "output_type": "stream",
     "text": [
      "Created new participant folder: data\\P_90\n",
      "Found the following files: ['block10RealANGER.xlsx', 'block11VirtualNEUTRAL.xlsx', 'block12RealSADNESS.xlsx', 'block13RealJOY.xlsx', 'block14VirtualFEAR.xlsx', 'block15RealFEAR.xlsx', 'block16RealDISGUST.xlsx', 'block17RealNEUTRAL.xlsx', 'block18RealANGER.xlsx', 'block19VirtualJOY.xlsx', 'block1VirtualFEAR.xlsx', 'block20VirtualSADNESS.xlsx', 'block21RealSURPRISE.xlsx', 'block22VirtualANGER.xlsx', 'block23RealJOY.xlsx', 'block24RealSADNESS.xlsx', 'block25RealSURPRISE.xlsx', 'block26RealFEAR.xlsx', 'block27RealDISGUST.xlsx', 'block28VirtualNEUTRAL.xlsx', 'block29VirtualNEUTRAL.xlsx', 'block2RealDISGUST.xlsx', 'block30RealJOY.xlsx', 'block31RealSADNESS.xlsx', 'block32VirtualFEAR.xlsx', 'block33VirtualANGER.xlsx', 'block34RealSURPRISE.xlsx', 'block35RealDISGUST.xlsx', 'block36VirtualSURPRISE.xlsx', 'block37VirtualANGER.xlsx', 'block38RealFEAR.xlsx', 'block39VirtualSADNESS.xlsx', 'block3VirtualJOY.xlsx', 'block40RealNEUTRAL.xlsx', 'block41RealDISGUST.xlsx', 'block42RealJOY.xlsx', 'block43RealNEUTRAL.xlsx', 'block44RealDISGUST.xlsx', 'block45RealFEAR.xlsx', 'block46VirtualSADNESS.xlsx', 'block47VirtualSURPRISE.xlsx', 'block48VirtualJOY.xlsx', 'block49VirtualANGER.xlsx', 'block4VirtualANGER.xlsx', 'block50VirtualSURPRISE.xlsx', 'block51VirtualDISGUST.xlsx', 'block52VirtualNEUTRAL.xlsx', 'block53VirtualJOY.xlsx', 'block54VirtualFEAR.xlsx', 'block55VirtualSADNESS.xlsx', 'block56VirtualANGER.xlsx', 'block5VirtualSURPRISE.xlsx', 'block6RealNEUTRAL.xlsx', 'block7RealSADNESS.xlsx', 'block8RealSURPRISE.xlsx', 'block9VirtualDISGUST.xlsx', 'blocks.xlsx']\n",
      "Copied files to new participant folder: data\\P_90\n"
     ]
    }
   ],
   "source": [
    "new_participant = True\n",
    "\n",
    "if new_participant:\n",
    "    # create a new participant folder\n",
    "    new_participant_folder = os.path.join(folder_name, 'P_' + str(num_participants + 1))\n",
    "    os.mkdir(new_participant_folder)\n",
    "    os.mkdir(os.path.join(new_participant_folder, 'ordering'))\n",
    "    print('Created new participant folder:', new_participant_folder)\n",
    "\n",
    "    # find all xlsx files in the current directory\n",
    "    files = [f for f in os.listdir() if f.endswith('.xlsx')]\n",
    "    print('Found the following files:', files)\n",
    "\n",
    "    # copy the files to the new ordering folder, don't move the original files\n",
    "    for f in files:\n",
    "        shutil.copy(f, os.path.join(new_participant_folder, 'ordering'))\n",
    "    \n",
    "    print('Copied files to new participant folder:', new_participant_folder)"
   ]
  }
 ],
 "metadata": {
  "kernelspec": {
   "display_name": "Python 3",
   "language": "python",
   "name": "python3"
  },
  "language_info": {
   "codemirror_mode": {
    "name": "ipython",
    "version": 3
   },
   "file_extension": ".py",
   "mimetype": "text/x-python",
   "name": "python",
   "nbconvert_exporter": "python",
   "pygments_lexer": "ipython3",
   "version": "3.11.9"
  }
 },
 "nbformat": 4,
 "nbformat_minor": 2
}
