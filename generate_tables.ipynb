{
 "cells": [
  {
   "cell_type": "markdown",
   "id": "4ecf60e7",
   "metadata": {},
   "source": [
    "# Imports"
   ]
  },
  {
   "cell_type": "code",
   "execution_count": 9,
   "id": "fcc65c76",
   "metadata": {},
   "outputs": [],
   "source": [
    "import pandas as pd\n",
    "import json"
   ]
  },
  {
   "cell_type": "markdown",
   "id": "7a376fd2",
   "metadata": {},
   "source": [
    "# GLM Table"
   ]
  },
  {
   "cell_type": "code",
   "execution_count": 10,
   "id": "5d555c4e",
   "metadata": {},
   "outputs": [],
   "source": [
    "# read csv\n",
    "all_significant_contrasts = pd.read_csv('processed_data/glm/all_significant_contrasts.csv')\n",
    "\n",
    "# remove the P>|z| and Significant column\n",
    "all_significant_contrasts = all_significant_contrasts.drop(columns=['P>|z|', 'Significant', 'Chroma', '[0.025', '0.975]', 'mode'])\n",
    "\n",
    "# rename the columns and capitalize the first letter of each word, except for 'z' and 'p_value_fdr'\n",
    "all_significant_contrasts.columns = [col.replace('_', ' ').title() if col not in ['z', 'p_value_fdr'] else col for col in all_significant_contrasts.columns]\n",
    "\n",
    "# rename the p_value_fdr column to $p_{fdr}$\n",
    "all_significant_contrasts.rename(columns={'p_value_fdr': '$p_{fdr}$'}, inplace=True)\n",
    "\n",
    "# rename Contrast Pair to 'Contrast'\n",
    "all_significant_contrasts.rename(columns={'Contrast Pair': 'Contrast'}, inplace=True)\n",
    "\n",
    "# rename 'z' to '$z$'\n",
    "all_significant_contrasts.rename(columns={'z': '$z$'}, inplace=True)\n",
    "\n",
    "# reorder the columns\n",
    "all_significant_contrasts = all_significant_contrasts[['Contrast', 'Region', 'Ch Name', 'Coef.', 'Std.Err.', '$z$', '$p_{fdr}$']]\n",
    "\n",
    "caption = \"Table of contrast results from the GLM analysis. \"\n",
    "\n",
    "# Replace all substrings of 'Virt' with 'Virtual'\n",
    "all_significant_contrasts['Contrast'] = all_significant_contrasts['Contrast'].str.replace('Virt', 'Virtual', regex=False)\n",
    "\n",
    "# save as a latex table\n",
    "with open('processed_data/glm/all_significant_contrasts.tex', 'w') as f:\n",
    "    f.write(all_significant_contrasts.to_latex(index=False, float_format=\"%.3f\", escape=False, column_format='|c|c|c|c|c|c|c|', longtable=True, caption=caption))\n",
    "\n",
    "# remove every underscore from the latex table\n",
    "with open('processed_data/glm/all_significant_contrasts.tex', 'r') as f:\n",
    "    lines = f.readlines()\n",
    "with open('processed_data/glm/all_significant_contrasts.tex', 'w') as f:\n",
    "    for line in lines:\n",
    "        if \"fdr\" in line:\n",
    "            f.write(line.replace('>', '$>$'))\n",
    "        else:\n",
    "            f.write(line.replace('_', ' ').replace('>', '$>$'))"
   ]
  },
  {
   "cell_type": "markdown",
   "id": "86eafc74",
   "metadata": {},
   "source": [
    "# Functional Connectivity Table"
   ]
  },
  {
   "cell_type": "code",
   "execution_count": 11,
   "id": "1e8f38f5",
   "metadata": {},
   "outputs": [
    {
     "name": "stderr",
     "output_type": "stream",
     "text": [
      "C:\\Users\\super\\AppData\\Local\\Temp\\ipykernel_25128\\1563098282.py:25: FutureWarning: The behavior of DataFrame concatenation with empty or all-NA entries is deprecated. In a future version, this will no longer exclude empty or all-NA columns when determining the result dtypes. To retain the old behavior, exclude the relevant entries before the concat operation.\n",
      "  contrast_df = pd.concat(\n"
     ]
    }
   ],
   "source": [
    "with open(f'processed_data\\\\spectral_connectivity_time\\\\group_level_t_tests_roi_contrasts.json', 'r') as f:\n",
    "    contrast_json = json.load(f)\n",
    "\n",
    "# create a dataframe to store the differences in the ratio of positive to negative t-values for each emotion contrast\n",
    "contrast_df = pd.DataFrame(columns=['Contrast', 'Ratio'])\n",
    "\n",
    "for mode in contrast_json.keys():\n",
    "    if mode == 'all':\n",
    "        continue\n",
    "    for contrast_name, contrast_data in contrast_json[mode].items():\n",
    "        num_positive_t = 0\n",
    "        num_negative_t = 0\n",
    "        for roi, values in contrast_data.items():\n",
    "            # count the number of t-values that are positive and negative\n",
    "            num_positive_t += sum(t > 0 for t in values['t_values'])\n",
    "            num_negative_t += sum(t < 0 for t in values['t_values'])\n",
    "\n",
    "        # Calculate the ratio of positive to negative t-values\n",
    "        if (num_positive_t + num_negative_t) != 0:\n",
    "            ratio = (num_positive_t - num_negative_t) / (num_positive_t + num_negative_t)\n",
    "        else:\n",
    "            ratio = 0  # avoid division by zero\n",
    "\n",
    "        # Append the contrast name and ratio to the dataframe\n",
    "        contrast_df = pd.concat(\n",
    "            [contrast_df, pd.DataFrame({'Contrast': [contrast_name], 'Ratio': [ratio]})],\n",
    "            ignore_index=True\n",
    "        )\n",
    "\n",
    "# Each contrast string is in one of the following formats:\n",
    "# 'Condition1_Condition2' or 'Condition1_Condition2_Condition3_Condition4'\n",
    "# In the first case, we want to replace the underscore with ' > ' and in the second case, we want to replace the first and last underscores with ' ' and the middle underscores with ' > '.\n",
    "def format_contrast_string(contrast):\n",
    "    parts = contrast.split('_')\n",
    "    if len(parts) == 2:\n",
    "        return f\"{parts[0]} > {parts[1]}\"\n",
    "    elif len(parts) == 4:\n",
    "        return f\"{parts[0]} {parts[1]} > {parts[2]} {parts[3]}\"\n",
    "    else:\n",
    "        return contrast\n",
    "\n",
    "contrast_df['Contrast'] = contrast_df['Contrast'].apply(format_contrast_string)\n",
    "contrast_df['Contrast'] = contrast_df['Contrast'].str.replace('Virt', 'Virtual', regex=False)\n",
    "\n",
    "caption = \"Ratio of positive to negative $t$-values for each contrast. The ratio is calculated as Ratio = (Number of Positive $t$-values - Number of Negative $t$-values) / (Number of Positive $t$-values + Number of Negative $t$-values). For condition1 > condition2, a positive ratio indicates that condition1 has more positive $t$-values than condition2, while a negative ratio indicates the opposite. \"\n",
    "\n",
    "# Save as a LaTeX table\n",
    "with open('processed_data/spectral_connectivity_time/group_level_t_tests_roi_contrast_ratios.tex', 'w') as f:\n",
    "    f.write(contrast_df.to_latex(index=False, float_format=\"%.3f\", escape=False, column_format='|l|c|', longtable=True, caption=caption))\n",
    "\n",
    "# Post-process LaTeX to escape underscores and replace '>' with LaTeX symbol\n",
    "with open('processed_data/spectral_connectivity_time/group_level_t_tests_roi_contrast_ratios.tex', 'r') as f:\n",
    "    lines = f.readlines()\n",
    "with open('processed_data/spectral_connectivity_time/group_level_t_tests_roi_contrast_ratios.tex', 'w') as f:\n",
    "    for line in lines:\n",
    "        f.write(line.replace('_', '\\\\_').replace('>', '$>$'))"
   ]
  },
  {
   "cell_type": "markdown",
   "id": "b655b8bd",
   "metadata": {},
   "source": [
    "# ANOVA Table"
   ]
  },
  {
   "cell_type": "code",
   "execution_count": 12,
   "id": "f8273669",
   "metadata": {},
   "outputs": [],
   "source": [
    "# read csv\n",
    "anova_table = pd.read_csv('processed_data/behavioural_responses/anova_table.csv')\n",
    "\n",
    "caption = 'Two-way ANOVA results for the effect of Face Type and Emotion and their interaction on the correct responses. '\n",
    "\n",
    "# set nan's to empty strings for better LaTeX formatting\n",
    "anova_table = anova_table.fillna('')\n",
    "\n",
    "# rename 'F' to '$F$' and 'PR(>F)' to 'PR(>$F$)'\n",
    "anova_table.rename(columns={'F': '$F$', 'PR(>F)': 'PR(>$F$)'}, inplace=True)\n",
    "\n",
    "# rename the first column to ''\n",
    "anova_table.rename(columns={anova_table.columns[0]: ''}, inplace=True)\n",
    "\n",
    "# save the anova table to a latex file\n",
    "with open('processed_data/behavioural_responses/anova_table.tex', 'w') as f:\n",
    "    f.write(anova_table.to_latex(index=False, float_format=\"%.5f\", escape=False, column_format='|l|c|c|c|c|', longtable=True, caption=caption))\n",
    "\n",
    "# remove every underscore from the latex table\n",
    "with open('processed_data/behavioural_responses/anova_table.tex', 'r') as f:\n",
    "    anova_table_latex = f.read().replace('_', '\\\\_').replace('>', '\\\\textgreater{}')\n",
    "with open('processed_data/behavioural_responses/anova_table.tex', 'w') as f:\n",
    "    f.write(anova_table_latex)"
   ]
  }
 ],
 "metadata": {
  "kernelspec": {
   "display_name": "Python 3",
   "language": "python",
   "name": "python3"
  },
  "language_info": {
   "codemirror_mode": {
    "name": "ipython",
    "version": 3
   },
   "file_extension": ".py",
   "mimetype": "text/x-python",
   "name": "python",
   "nbconvert_exporter": "python",
   "pygments_lexer": "ipython3",
   "version": "3.11.9"
  }
 },
 "nbformat": 4,
 "nbformat_minor": 5
}
